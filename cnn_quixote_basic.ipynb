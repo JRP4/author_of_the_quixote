{
 "cells": [
  {
   "cell_type": "code",
   "execution_count": 1,
   "metadata": {},
   "outputs": [],
   "source": [
    "import tensorflow as tf\n",
    "import numpy as np\n",
    "\n",
    "from text_processing import quixote_data_cleaning, text_processing, quixote_traintest_split, validation_text_processing\n",
    "from RNN_class import Basic_RNN, OneStep, Basic_RNN_v2"
   ]
  },
  {
   "cell_type": "markdown",
   "metadata": {},
   "source": [
    "The aim of this notebook is to demonsrate how the data is imported, cleaned, processed and used to train and evaluate a simple model."
   ]
  },
  {
   "cell_type": "code",
   "execution_count": 2,
   "metadata": {},
   "outputs": [],
   "source": [
    "#run the data importing and cleaning function\n",
    "text=quixote_data_cleaning()\n",
    "train_text,validation_text= quixote_traintest_split(text)\n",
    "\n",
    "sequence_length=64\n",
    "BATCH_SIZE = 64\n",
    "BUFFER_SIZE = 10000\n",
    "\n",
    "#run the data processing function, takes a string and returns a tf.data object for efficent implementation in an RNN\n",
    "dataset,ids_from_chars, chars_from_ids, vocab_size=text_processing(train_text,sequence_length,BATCH_SIZE,BUFFER_SIZE)\n",
    "\n",
    "#produce the validation text (last chapter of the novel) as well.\n",
    "valid_dataset=validation_text_processing(validation_text,sequence_length,BATCH_SIZE,BUFFER_SIZE,ids_from_chars)"
   ]
  },
  {
   "cell_type": "markdown",
   "metadata": {},
   "source": [
    "## Training and Testing a basic model."
   ]
  },
  {
   "cell_type": "code",
   "execution_count": 5,
   "metadata": {},
   "outputs": [
    {
     "name": "stdout",
     "output_type": "stream",
     "text": [
      "Epoch 1/10\n",
      "\u001b[1m 21/520\u001b[0m \u001b[37m━━━━━━━━━━━━━━━━━━━━\u001b[0m \u001b[1m22s\u001b[0m 46ms/step - accuracy: 0.1636 - loss: 3.6227"
     ]
    }
   ],
   "source": [
    "embedding_dim=256\n",
    "hidden_units=128\n",
    "\n",
    "basic_model = Basic_RNN(hidden_units, vocab_size,embedding_dim,learning_rate=2e-3)\n",
    "EPOCHS=10\n",
    "basic_model.fit(dataset,epochs=EPOCHS,validation_data=valid_dataset, callbacks=[basic_model.early_stopping])"
   ]
  },
  {
   "cell_type": "code",
   "execution_count": null,
   "metadata": {},
   "outputs": [
    {
     "name": "stdout",
     "output_type": "stream",
     "text": [
      "Basic Model: [b'Don Quixote o hind s b']\n"
     ]
    }
   ],
   "source": [
    "#test the output of the basic RNN model.\n",
    "temperature=0.6\n",
    "one_step_model = OneStep(basic_model, chars_from_ids, ids_from_chars, temperature)\n",
    "text='Don Quixote '\n",
    "\n",
    "result=one_step_model.generate_more_steps(10,text)\n",
    "print(\"Basic Model: {}\".format(result))"
   ]
  },
  {
   "cell_type": "markdown",
   "metadata": {},
   "source": [
    "This is a very bad model but that is to be expected as it only took five minutes to train. \n",
    "It seems to understand how spaces and commas work but cannot produce words."
   ]
  },
  {
   "cell_type": "markdown",
   "metadata": {},
   "source": [
    "## Testing the effects of dropout\n",
    "Models without dropout are faster to train (as there are fewer parameters), however their loss scores will be higher.\n",
    "This may not be a problem as decreased accuracy on the training data has the advantage of being more robust.\n",
    "An issue with some models is that once an unusual character is chosen it de-rails the following characters, this property is not measured in any of the metrics."
   ]
  },
  {
   "cell_type": "code",
   "execution_count": 21,
   "metadata": {},
   "outputs": [],
   "source": [
    "# embedding_dim=256\n",
    "# hidden_units=512\n",
    "\n",
    "# #training a standard RNN model with 3 RNN layers and a dropout rate of 0.5 and recurrent dropout rate of 0.5.\n",
    "# v2_model = Basic_RNN_v2(hidden_units, vocab_size,embedding_dim,dropout_rate=0.5,recurrent_dropout_rate=0.5,learning_rate=2e-3)\n",
    "# EPOCHS=20\n",
    "# v2_model.fit(dataset,epochs=EPOCHS)\n",
    "\n",
    "# #same model as above but with no dropout.\n",
    "# v2_model_nodropout = Basic_RNN_v2(hidden_units, vocab_size,embedding_dim,dropout_rate=0.0,recurrent_dropout_rate=0.0,learning_rate=2e-3)\n",
    "# EPOCHS=20\n",
    "# v2_model_nodropout.fit(dataset,epochs=EPOCHS)\n",
    "\n",
    "# #save the models\n",
    "# v2_model.save('saved_models/RNN_14062024.keras')\n",
    "# v2_model_nodropout.save('saved_models/RNN_nodropout_14062024.keras')"
   ]
  },
  {
   "cell_type": "code",
   "execution_count": 3,
   "metadata": {},
   "outputs": [],
   "source": [
    "#load models\n",
    "v2_model = tf.keras.models.load_model('saved_models/RNN_14062024.keras')\n",
    "v2_model_nodropout= tf.keras.models.load_model('saved_models/RNN_nodropout_14062024.keras')"
   ]
  },
  {
   "cell_type": "code",
   "execution_count": 12,
   "metadata": {},
   "outputs": [
    {
     "name": "stdout",
     "output_type": "stream",
     "text": [
      "tf.Tensor([b'Don Quixote w STof mashe hy ofin'], shape=(1,), dtype=string)\n",
      "tf.Tensor([b'Don Quixote e  w m w ms w torim '], shape=(1,), dtype=string)\n"
     ]
    }
   ],
   "source": [
    "temperature=0.6\n",
    "text='Don Quixote '\n",
    "\n",
    "#compare models with a simple (before seen input)\n",
    "v2_one_step_model = OneStep(v2_model, chars_from_ids, ids_from_chars, temperature)\n",
    "v2_result=v2_one_step_model.generate_more_steps(20,text)\n",
    "print(v2_result)\n",
    "\n",
    "v2_nodropout_one_step_model = OneStep(v2_model, chars_from_ids, ids_from_chars, temperature)\n",
    "v2_nodropout_result=v2_nodropout_one_step_model.generate_more_steps(20,text)\n",
    "print(v2_nodropout_result)"
   ]
  },
  {
   "cell_type": "code",
   "execution_count": 14,
   "metadata": {},
   "outputs": [
    {
     "name": "stdout",
     "output_type": "stream",
     "text": [
      "Dropout model: [b'CHAPTER LXXIV. OF HOW DON QUIXOTE FELL SICK, AND OF THE WILL HE MADE, AND HOW HE DIEDL he aldind thend mit m hes w pld t SIw ']\n",
      "No Dropout model: [b'CHAPTER LXXIV. OF HOW DON QUIXOTE FELL SICK, AND OF THE WILL HE MADE, AND HOW HE DIEDH w whe and wof w o s angk s wos w he w '])\n"
     ]
    }
   ],
   "source": [
    "#compare models using the start of the test data\n",
    "text=\"CHAPTER LXXIV. OF HOW DON QUIXOTE FELL SICK, AND OF THE WILL HE MADE, AND HOW HE DIED\"\n",
    "\n",
    "v2_result=v2_one_step_model.generate_more_steps(40,text)\n",
    "print(\"Dropout model: {}\".format(v2_result))\n",
    "\n",
    "v2_nodropout_result=v2_nodropout_one_step_model.generate_more_steps(40,text)\n",
    "print(\"No Dropout model: {})\".format(v2_nodropout_result))"
   ]
  },
  {
   "cell_type": "code",
   "execution_count": null,
   "metadata": {},
   "outputs": [],
   "source": []
  }
 ],
 "metadata": {
  "kernelspec": {
   "display_name": "base",
   "language": "python",
   "name": "python3"
  },
  "language_info": {
   "codemirror_mode": {
    "name": "ipython",
    "version": 3
   },
   "file_extension": ".py",
   "mimetype": "text/x-python",
   "name": "python",
   "nbconvert_exporter": "python",
   "pygments_lexer": "ipython3",
   "version": "3.9.12"
  }
 },
 "nbformat": 4,
 "nbformat_minor": 2
}
